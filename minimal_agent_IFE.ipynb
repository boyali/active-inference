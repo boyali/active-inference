{
 "cells": [
  {
   "cell_type": "code",
   "execution_count": 298,
   "metadata": {
    "collapsed": true
   },
   "outputs": [],
   "source": [
    "import tensorflow as tf\n",
    "import numpy as np\n",
    "\n",
    "from matplotlib import pyplot as plt\n",
    "import seaborn as sns\n",
    "\n",
    "%matplotlib inline"
   ]
  },
  {
   "cell_type": "code",
   "execution_count": 299,
   "metadata": {
    "collapsed": true
   },
   "outputs": [],
   "source": [
    "ENV_SIZE = 16\n",
    "INITIAL_POSITION = 0\n",
    "FOOD_POSITION = 8\n",
    "MOVEMENT_PROBABILITY = 0.75\n",
    "\n",
    "# Sensory dynamics parameters\n",
    "MAX_SENSE_PROBABILITY = 4**(-1/16) # k\n",
    "SENSE_DECAY_RATE = np.log(4)/16 # omega\n",
    "\n",
    "# Number of epochs (simulation steps).\n",
    "EPOCHS = 100\n",
    "\n",
    "# Number of gradient descent steps made to update beliefs in each epoch.\n",
    "N_STEPS = 100\n",
    "LEARNING_RATE = 0.8\n",
    "\n",
    "# No preference for position\n",
    "#DESIRED_POSITIONS = [0.0] * ENV_SIZE\n",
    "\n",
    "# Fuzzy preference distributed around a specified position.\n",
    "pos = 2\n",
    "rng = np.arange(ENV_SIZE)\n",
    "DESIRED_POSITIONS = MAX_SENSE_PROBABILITY * np.exp(-SENSE_DECAY_RATE * np.minimum((rng - pos) % ENV_SIZE,\n",
    "                                                                                  (pos - rng) % ENV_SIZE))"
   ]
  },
  {
   "cell_type": "code",
   "execution_count": 300,
   "metadata": {
    "collapsed": true
   },
   "outputs": [],
   "source": [
    "tf.reset_default_graph()\n",
    "\n",
    "# Position (external state), Psi \\in (0,15)\n",
    "Psi = tf.Variable(initial_value=INITIAL_POSITION, trainable=False, dtype=tf.int32, name='external')\n",
    "\n",
    "# Sensory state, S \\in {0, 1}\n",
    "S = tf.Variable(initial_value=1, trainable=False, dtype=tf.int32, name='sensory')\n",
    "\n",
    "# Action state, A \\in {-1, 1}\n",
    "A = tf.Variable(initial_value=1, trainable=False, dtype=tf.int32, name='action')\n",
    "\n",
    "# Internal state, R \\in R^16\n",
    "R = tf.Variable(initial_value=[0.0]*ENV_SIZE, trainable=False, dtype=tf.float32, name='internal')\n",
    "\n",
    "# Internal state (as intention), Ri \\in R^16\n",
    "Ri = tf.Variable(initial_value=DESIRED_POSITIONS, trainable=False, dtype=tf.float32, name='internal_intention')\n",
    "\n",
    "# Internal state (as belief), Rb \\in R^16\n",
    "Rb = tf.Variable(initial_value=[0.0]*ENV_SIZE, trainable=True, dtype=tf.float32, name='internal_belief')\n",
    "\n",
    "\n",
    "def environmental_dynamics(psi, a):\n",
    "    \"\"\"\n",
    "    P(Psi' | Psi, A)\n",
    "    Probability of a new position given the old position and selected action.\n",
    "    \"\"\"\n",
    "    return tf.scatter_nd(tf.cast([[psi % ENV_SIZE], [(psi + a) % ENV_SIZE]], tf.int32),\n",
    "                         tf.stack([1 - MOVEMENT_PROBABILITY, MOVEMENT_PROBABILITY]),\n",
    "                         [ENV_SIZE])\n",
    "\n",
    "\n",
    "def sensory_dynamics(psi):\n",
    "    \"\"\"\n",
    "    P(S | Psi)\n",
    "    Probability of experiencing sensory state 1 given current position.\n",
    "    \"\"\"\n",
    "    return MAX_SENSE_PROBABILITY * tf.exp(-SENSE_DECAY_RATE * tf.cast(\n",
    "                        tf.minimum((psi - FOOD_POSITION) % ENV_SIZE,\n",
    "                                   (FOOD_POSITION - psi) % ENV_SIZE),\n",
    "                        tf.float32))\n",
    "\n",
    "\n",
    "def model_encoding(R):\n",
    "    \"\"\"\n",
    "    Probability of occupying specific position as encoded in the internal state.\n",
    "    \"\"\"\n",
    "    return tf.nn.softmax(R)\n",
    "\n",
    "\n",
    "def generative_density(R, a):\n",
    "    \"\"\"\n",
    "    P(Psi', S | R, A)\n",
    "    Agent's prediction of its new position given its internal state and selected action\n",
    "    (calculated separately for two sensory states).\n",
    "    \"\"\"\n",
    "    return tf.stack([\n",
    "        tf.reduce_sum(\n",
    "            tf.stack([environmental_dynamics(psi, a) * (1-sensory_dynamics(psi)) * model_encoding(R)[psi]\n",
    "                      for psi in range(ENV_SIZE)], axis=0), axis=0),\n",
    "        tf.reduce_sum(\n",
    "            tf.stack([environmental_dynamics(psi, a) * sensory_dynamics(psi) * model_encoding(R)[psi]\n",
    "                      for psi in range(ENV_SIZE)], axis=0), axis=0)])\n",
    "\n",
    "\n",
    "def variational_density(R):\n",
    "    \"\"\"\n",
    "    P(Psi | R)\n",
    "    Agent's belief about the external states (i.e. its current position in the \n",
    "    world) or intention (i.e. desired position in the world) as encoded in the\n",
    "    internal state.\n",
    "    \"\"\"\n",
    "    return model_encoding(R)\n",
    "\n",
    "\n",
    "def KL(a, b):\n",
    "    \"\"\"\n",
    "    Kullback-Leibler divergence between densities a and b.\n",
    "    \"\"\"\n",
    "    return tf.reduce_sum(a * tf.log(a/b))\n",
    "\n",
    "\n",
    "def free_energy(R1, R, s, a):\n",
    "    \"\"\"\n",
    "    KL divergence between variational density and generative density for a fixed\n",
    "    sensory state s.\n",
    "    \"\"\"\n",
    "    return KL(variational_density(R1), generative_density(R, a)[s])\n",
    "\n",
    "\n",
    "update_sensor = S.assign(tf.cond(tf.less(tf.random_uniform([1])[0], sensory_dynamics(Psi)), lambda: 1, lambda: 0))\n",
    "choose_action = A.assign(tf.cond(tf.less(free_energy(Ri, R, S, -1), free_energy(Ri, R, S, 1)), lambda: -1, lambda: 1))\n",
    "\n",
    "clear_belief = Rb.assign(tf.constant([0.0]*16))\n",
    "update_belief = R.assign(Rb)\n",
    "\n",
    "update_position = Psi.assign(tf.cond(tf.less(tf.random_uniform([1])[0], MOVEMENT_PROBABILITY),\n",
    "                                     lambda: (Psi + A) % ENV_SIZE, lambda: Psi))\n",
    "\n",
    "belief_optimizer_step = tf.train.GradientDescentOptimizer(LEARNING_RATE).minimize(free_energy(Rb, R, S, A))"
   ]
  },
  {
   "cell_type": "code",
   "execution_count": 301,
   "metadata": {},
   "outputs": [],
   "source": [
    "# Initializing the variables\n",
    "init = tf.global_variables_initializer()\n",
    "\n",
    "Psi_trace = []\n",
    "R_trace = []\n",
    "\n",
    "# Launch the graph\n",
    "with tf.Session() as sess:\n",
    "    sess.run(init)\n",
    "    \n",
    "    for epoch in range(EPOCHS):\n",
    "        sess.run([update_sensor, choose_action, clear_belief])\n",
    "        for step in range(N_STEPS):\n",
    "            sess.run(belief_optimizer_step)\n",
    "        sess.run([update_belief, update_position]) \n",
    "        \n",
    "        Psi_trace.append(Psi.eval())\n",
    "        R_trace.append(R.eval())"
   ]
  },
  {
   "cell_type": "code",
   "execution_count": 302,
   "metadata": {},
   "outputs": [
    {
     "data": {
      "image/png": "[encoded data removed]",
      "text/plain": [
       "<matplotlib.figure.Figure at 0x7f67e559b470>"
      ]
     },
     "metadata": {},
     "output_type": "display_data"
    }
   ],
   "source": [
    "fig = plt.figure(figsize=(15, 4))\n",
    "ax = fig.gca()\n",
    "\n",
    "ax.imshow(np.exp(R_trace).T / np.sum(np.exp(R_trace), axis=1), interpolation=\"nearest\", aspect=\"auto\")\n",
    "ax.scatter(list(range(EPOCHS)), Psi_trace, color=\"red\")\n",
    "ax.invert_yaxis()"
   ]
  }
 ],
 "metadata": {
  "kernelspec": {
   "display_name": "Python 3",
   "language": "python",
   "name": "python3"
  },
  "language_info": {
   "codemirror_mode": {
    "name": "ipython",
    "version": 3
   },
   "file_extension": ".py",
   "mimetype": "text/x-python",
   "name": "python",
   "nbconvert_exporter": "python",
   "pygments_lexer": "ipython3",
   "version": "3.6.1"
  }
 },
 "nbformat": 4,
 "nbformat_minor": 1
}
